{
 "cells": [
  {
   "cell_type": "code",
   "execution_count": 1,
   "metadata": {},
   "outputs": [],
   "source": [
    "import cv2\n",
    "from numpy import array as np\n",
    "import os\n",
    "\n",
    "def redimensionar(imagem,porcentagem):\n",
    "    width = int(imagem.shape[1] * porcentagem / 100)\n",
    "    height = int(imagem.shape[0] * porcentagem / 100)\n",
    "    dim = (width, height)\n",
    "    resized = cv2.resize(imagem, dim, interpolation = cv2.INTER_AREA)\n",
    "    return resized"
   ]
  },
  {
   "cell_type": "code",
   "execution_count": 3,
   "metadata": {},
   "outputs": [
    {
     "name": "stdout",
     "output_type": "stream",
     "text": [
      "O número de fotos é:  40\n",
      "O número de acertos é: 0\n",
      "As diferenças encontradas foram:  [267, 195, 222, 261, 235, 256, 250, 207, 244, 246, 247, 234, 247, 254, 250, 245, 231, 233, 244, 244, 269, 313, 236, 238, 207, 257, 268, 290, 307, 265, 281, 267, 297, 316, 294, 288, 240, 296, 294, 245]\n"
     ]
    }
   ],
   "source": [
    "nomes_fotos=os.listdir(os.getcwd()+ '\\\\imagens')\n",
    "certos= 0\n",
    "diferenças= []\n",
    "for arquivo in nomes_fotos:\n",
    "    image= cv2.imread(os.getcwd()+ '\\\\imagens\\\\'+arquivo)\n",
    "    image= redimensionar(image,20)\n",
    "    gray= cv2.cvtColor(image,cv2.COLOR_BGR2GRAY)\n",
    "    edges= cv2.Canny(gray, 10,40)\n",
    "    contours, hierarchy= cv2.findContours(edges.copy(), cv2.RETR_EXTERNAL, cv2.CHAIN_APPROX_NONE)\n",
    "\n",
    "    number_of_objects_in_image= len(contours)\n",
    "    if number_of_objects_in_image == int(arquivo[0:2]):\n",
    "        certos += 1\n",
    "        diferenças.append(0)\n",
    "    else:\n",
    "        diferenças.append(abs(int(arquivo[0:2])-number_of_objects_in_image))\n",
    "#cv2.imshow('imagem cinza',gray)\n",
    "#cv2.imshow('imagem canny1',edges)\n",
    "    #print (\"The number of objects in this image: \", str(number_of_objects_in_image))\n",
    "print('O número de fotos é: ',str(len(nomes_fotos)))\n",
    "print('O número de acertos é: '+str(certos))\n",
    "print('As diferenças encontradas foram: ' ,diferenças)"
   ]
  }
 ],
 "metadata": {
  "kernelspec": {
   "display_name": "Python 3",
   "language": "python",
   "name": "python3"
  },
  "language_info": {
   "codemirror_mode": {
    "name": "ipython",
    "version": 3
   },
   "file_extension": ".py",
   "mimetype": "text/x-python",
   "name": "python",
   "nbconvert_exporter": "python",
   "pygments_lexer": "ipython3",
   "version": "3.7.6"
  }
 },
 "nbformat": 4,
 "nbformat_minor": 4
}
