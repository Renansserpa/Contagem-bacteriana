{
 "cells": [
  {
   "cell_type": "code",
   "execution_count": null,
   "metadata": {},
   "outputs": [],
   "source": [
    "import cv2\n",
    "from numpy import array as np\n",
    "import os\n",
    "\n",
    "def redimensionar(imagem,porcentagem):\n",
    "    width = int(imagem.shape[1] * porcentagem / 100)\n",
    "    height = int(imagem.shape[0] * porcentagem / 100)\n",
    "    dim = (width, height)\n",
    "    resized = cv2.resize(imagem, dim, interpolation = cv2.INTER_AREA)\n",
    "    return resized"
   ]
  },
  {
   "cell_type": "code",
   "execution_count": null,
   "metadata": {},
   "outputs": [],
   "source": [
"exemplo = cv2.imread('01_1.jpg')", 
"exemplo = redimensionar(exemplo,20)", 
"exemplo = exemplo[75:400, 40:520]", 
"gray_ex= cv2.cvtColor(exemplo,cv2.COLOR_BGR2GRAY)", 
"edges= cv2.Canny(gray_ex, 140, 250)", 
"contours, hierarchy= cv2.findContours(edges.copy(), cv2.RETR_EXTERNAL,  cv2.CHAIN_APPROX_NONE)", 
"draw = cv2.drawContours(exemplo, contours, -1, (255,0,0), 2)", 
"cv2.imshow('exemplo',draw)", 
"mean_contour = cv2.contourArea(contours[0])", 
"image= cv2.imread('30_1.jpg')", 
"image= redimensionar(image,20)", 
"image = image[75:400, 40:520]", 
"gray= cv2.cvtColor(image,cv2.COLOR_BGR2GRAY)", 
"edges= cv2.Canny(gray, 140, 250)", 
"contours, hierarchy= cv2.findContours(edges.copy(), cv2.RETR_EXTERNAL,  cv2.CHAIN_APPROX_NONE)", 
"contours_find = []", 
"for i in contours:", 
    "if cv2.contourArea(i) < mean_contour:", 
        "contours_find.append(i)", 
    "if cv2.contourArea(i) >= mean_contour:", 
        "n = cv2.contourArea(i)/mean_contour", 
        "for i in range(0, int(round(n))):", 
            "contours_find.append(i)", 
"draw = cv2.drawContours(image, contours, -1, (255,0,0), 2)", 
"number_of_objects_in_image= len(contours_find)", 
"cv2.imshow('imagem cinza',gray)", 
"cv2.imshow('imagem canny1',edges)", 
"cv2.imshow('contornos',draw)", 
"print ("The number of objects in this image: ", str(number_of_objects_in_image))", 
"cv2.waitKey(0) & 0xFF", 
"if ord('q'):", 
    "print('Exit clicked')", 
    "cv2.destroyAllWindows()"
   ]
  }
 ],
 "metadata": {
  "kernelspec": {
   "display_name": "Python 3",
   "language": "python",
   "name": "python3"
  },
  "language_info": {
   "codemirror_mode": {
    "name": "ipython",
    "version": 3
   },
   "file_extension": ".py",
   "mimetype": "text/x-python",
   "name": "python",
   "nbconvert_exporter": "python",
   "pygments_lexer": "ipython3",
   "version": "3.7.6"
  }
 },
 "nbformat": 4,
 "nbformat_minor": 4
}
