{
 "cells": [
  {
   "cell_type": "code",
   "execution_count": 1,
   "metadata": {},
   "outputs": [],
   "source": [
    "import cv2\n",
    "from numpy import array as np\n",
    "import numpy as np\n",
    "import os\n",
    "\n",
    "def redimensionar(imagem,porcentagem):\n",
    "    width = int(imagem.shape[1] * porcentagem / 100)\n",
    "    height = int(imagem.shape[0] * porcentagem / 100)\n",
    "    dim = (width, height)\n",
    "    resized = cv2.resize(imagem, dim, interpolation = cv2.INTER_AREA)\n",
    "    return resized"
   ]
  },
  {
   "cell_type": "code",
   "execution_count": 2,
   "metadata": {},
   "outputs": [
    {
     "name": "stdout",
     "output_type": "stream",
     "text": [
      "Número de contornos encontrados 1070\n",
      "Quantidade de contonos esperada 1289\n",
      "O número de fotos é:  40\n",
      "O número de acertos é: 27\n",
      "As diferenças encontradas foram:  [0, 0, 0, 0, 0, 0, 0, 0, 0, 0, 5, 1, 0, 0, 0, 1, 0, 0, 0, 0, 7, 0, 0, 0, 1, 0, 1, 0, 0, 1, 0, 1, 1, 0, 0, 7, 12, 1, 0, 22]\n",
      "Fotos com diferença ['20_4.JPG', '20_5.JPG', '30_1.JPG', '40_1.JPG', '40_5.JPG', '49_10.JPG', '49_13.JPG', '49_15.JPG', '49_2.JPG', '49_5.JPG', '49_6.JPG', '49_7.JPG', '49_9.JPG']\n"
     ]
    }
   ],
   "source": [
    "nomes_fotos=os.listdir(os.getcwd()+ '\\\\imagens')\n",
    "certos= 0\n",
    "diferenças= []\n",
    "diferenca_nome = []\n",
    "Area_find = []\n",
    "contornos_esperados = []\n",
    "for arquivo in nomes_fotos:\n",
    "    image= cv2.imread(os.getcwd() + '\\\\imagens\\\\' + arquivo)\n",
    "    image= redimensionar(image,40)\n",
    "    image = image[100:900, 10:1300]\n",
    "    gray= cv2.cvtColor(image,cv2.COLOR_BGR2GRAY)\n",
    "    edges= cv2.Canny(gray, 150, 460, apertureSize = 3)\n",
    "    kernel = np.full_like((9, 9), 255, np.uint8)\n",
    "    edges = cv2.dilate(edges, kernel, cv2.BORDER_WRAP) \n",
    "    contours, hierarchy= cv2.findContours(edges.copy(), cv2.RETR_EXTERNAL,  cv2.CHAIN_APPROX_NONE)\n",
    "    for i in contours:\n",
    "        Area_find.append(cv2.contourArea(i))\n",
    "mean_contour = np.median(Area_find)\n",
    "for arquivo in nomes_fotos:\n",
    "    image= cv2.imread(os.getcwd() + '\\\\imagens\\\\' + arquivo)\n",
    "    image= redimensionar(image,40)\n",
    "    image = image[100:900, 10:1300]\n",
    "    contornos_esperados.append(int(arquivo[0:2]))\n",
    "    gray= cv2.cvtColor(image,cv2.COLOR_BGR2GRAY)\n",
    "    edges= cv2.Canny(gray, 150, 460, apertureSize = 3)\n",
    "    kernel = np.full_like((9, 9), 255, np.uint8)\n",
    "    edges = cv2.dilate(edges, kernel, cv2.BORDER_WRAP) \n",
    "    contours, hierarchy= cv2.findContours(edges.copy(), cv2.RETR_EXTERNAL,  cv2.CHAIN_APPROX_NONE)\n",
    "    contours_find = []\n",
    "    for i in contours:\n",
    "        if cv2.contourArea(i) < mean_contour:\n",
    "            contours_find.append(i)\n",
    "        elif cv2.contourArea(i) >= mean_contour:\n",
    "            n = cv2.contourArea(i)/mean_contour\n",
    "            for i in range(0, int(round(n))):\n",
    "                contours_find.append(i)\n",
    "    number_of_objects_in_image= len(contours_find)\n",
    "    if number_of_objects_in_image == int(arquivo[0:2]):\n",
    "        certos += 1\n",
    "        diferenças.append(0)\n",
    "    else:\n",
    "        diferenca_nome.append(arquivo)\n",
    "        diferenças.append(int(arquivo[0:2]) - number_of_objects_in_image)\n",
    "print('Número de contornos encontrados', len(Area_find))\n",
    "print('Quantidade de contonos esperada', np.sum(contornos_esperados))\n",
    "print('O número de fotos é: ',str(len(nomes_fotos)))\n",
    "print('O número de acertos é: '+str(certos))\n",
    "print('As diferenças encontradas foram: ' ,diferenças)\n",
    "print(\"Fotos com diferença\", diferenca_nome)"
   ]
  },
  {
   "cell_type": "code",
   "execution_count": null,
   "metadata": {},
   "outputs": [],
   "source": []
  }
 ],
 "metadata": {
  "kernelspec": {
   "display_name": "Python 3",
   "language": "python",
   "name": "python3"
  },
  "language_info": {
   "codemirror_mode": {
    "name": "ipython",
    "version": 3
   },
   "file_extension": ".py",
   "mimetype": "text/x-python",
   "name": "python",
   "nbconvert_exporter": "python",
   "pygments_lexer": "ipython3",
   "version": "3.7.6"
  }
 },
 "nbformat": 4,
 "nbformat_minor": 4
}
