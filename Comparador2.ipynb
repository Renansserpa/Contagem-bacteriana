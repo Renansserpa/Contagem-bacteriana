{
 "cells": [
  {
   "cell_type": "code",
   "execution_count": 1,
   "metadata": {},
   "outputs": [],
   "source": [
    "import cv2\n",
    "from numpy import array as np\n",
    "import numpy as np\n",
    "import os\n",
    "\n",
    "def redimensionar(imagem,porcentagem):\n",
    "    width = int(imagem.shape[1] * porcentagem / 100)\n",
    "    height = int(imagem.shape[0] * porcentagem / 100)\n",
    "    dim = (width, height)\n",
    "    resized = cv2.resize(imagem, dim, interpolation = cv2.INTER_AREA)\n",
    "    return resized"
   ]
  },
  {
   "cell_type": "code",
   "execution_count": 2,
   "metadata": {},
   "outputs": [
    {
     "name": "stdout",
     "output_type": "stream",
     "text": [
      "O número de fotos é:  40\n",
      "O número de acertos é: 10\n",
      "As diferenças encontradas foram:  [0, 0, 0, 1, 0, 3, 0, 0, 0, 3, 11, 4, 2, 0, 0, 2, 0, 2, 6, 5, 15, 4, 3, 2, 3, 9, 8, 4, 7, 8, 3, 10, 6, 1, 2, 15, 38, 12, 6, 36]\n",
      "Fotos com diferença ['10_1.JPG', '10_3.JPG', '20_3.JPG', '20_4.JPG', '20_5.JPG', '20_6.JPG', '30_1.JPG', '30_3.JPG', '30_4.JPG', '30_5.JPG', '40_1.JPG', '40_2.JPG', '40_3.JPG', '40_4.JPG', '40_5.JPG', '49_1.JPG', '49_10.JPG', '49_11.JPG', '49_12.JPG', '49_13.JPG', '49_14.JPG', '49_15.JPG', '49_2.JPG', '49_3.JPG', '49_4.JPG', '49_5.JPG', '49_6.JPG', '49_7.JPG', '49_8.JPG', '49_9.JPG']\n"
     ]
    }
   ],
   "source": [
    "nomes_fotos=os.listdir(os.getcwd()+ '\\\\imagens')\n",
    "certos= 0\n",
    "diferenças= []\n",
    "diferenca_nome = []\n",
    "for arquivo in nomes_fotos:\n",
    "    image= cv2.imread(os.getcwd()+ '\\\\imagens\\\\'+ arquivo)\n",
    "    image= redimensionar(image,20)\n",
    "    image = image[75:395, 70:520]\n",
    "    gray= cv2.cvtColor(image,cv2.COLOR_BGR2GRAY)\n",
    "    edges= cv2.Canny(gray, 140,250)\n",
    "    contours, hierarchy= cv2.findContours(edges.copy(), cv2.RETR_EXTERNAL, cv2.CHAIN_APPROX_NONE)\n",
    "\n",
    "    number_of_objects_in_image= len(contours)\n",
    "    if number_of_objects_in_image == int(arquivo[0:2]):\n",
    "        certos += 1\n",
    "        diferenças.append(0)\n",
    "    else:\n",
    "        diferenca_nome.append(arquivo)\n",
    "        diferenças.append(int(arquivo[0:2]) - number_of_objects_in_image)\n",
    "print('O número de fotos é: ',str(len(nomes_fotos)))\n",
    "print('O número de acertos é: '+str(certos))\n",
    "print('As diferenças encontradas foram: ' ,diferenças)\n",
    "print(\"Fotos com diferença\", diferenca_nome)"
   ]
  },
  {
   "cell_type": "code",
   "execution_count": 3,
   "metadata": {},
   "outputs": [
    {
     "name": "stdout",
     "output_type": "stream",
     "text": [
      "O número de fotos é:  40\n",
      "O número de acertos é: 20\n",
      "As diferenças encontradas foram:  [0, 0, 0, 0, 0, 2, 0, 0, 0, 1, 8, 3, 0, 0, 0, 1, 0, 0, 1, 2, 1, 0, 0, 0, 0, 3, 2, 3, 5, 2, 0, 4, 5, 0, 0, 14, 24, 4, 5, 28]\n",
      "Fotos com diferença ['10_3.JPG', '20_3.JPG', '20_4.JPG', '20_5.JPG', '30_1.JPG', '30_4.JPG', '30_5.JPG', '40_1.JPG', '49_1.JPG', '49_10.JPG', '49_11.JPG', '49_12.JPG', '49_13.JPG', '49_15.JPG', '49_2.JPG', '49_5.JPG', '49_6.JPG', '49_7.JPG', '49_8.JPG', '49_9.JPG']\n"
     ]
    }
   ],
   "source": [
    "nomes_fotos=os.listdir(os.getcwd()+ '\\\\imagens')\n",
    "certos= 0\n",
    "diferenças= []\n",
    "diferenca_nome = []\n",
    "for arquivo in nomes_fotos:\n",
    "    exemplo = cv2.imread(os.getcwd() + '\\\\imagens\\\\' + \"01_1.jpg\")\n",
    "    exemplo = redimensionar(exemplo,20)\n",
    "    exemplo = exemplo[75:395, 70:520]\n",
    "    gray_ex= cv2.cvtColor(exemplo,cv2.COLOR_BGR2GRAY)\n",
    "    edges= cv2.Canny(gray_ex, 140, 250)\n",
    "    contours, hierarchy= cv2.findContours(edges.copy(), cv2.RETR_EXTERNAL,  cv2.CHAIN_APPROX_NONE)\n",
    "    mean_contour = cv2.contourArea(contours[0])\n",
    "    image= cv2.imread(os.getcwd() + '\\\\imagens\\\\' + arquivo)\n",
    "    image= redimensionar(image,20)\n",
    "    image = image[75:399, 70:520]\n",
    "    gray= cv2.cvtColor(image,cv2.COLOR_BGR2GRAY)\n",
    "    edges= cv2.Canny(gray, 140, 250, apertureSize = 3)\n",
    "    contours, hierarchy= cv2.findContours(edges.copy(), cv2.RETR_EXTERNAL,  cv2.CHAIN_APPROX_NONE)\n",
    "    contours_find = []\n",
    "    for i in contours:\n",
    "        if cv2.contourArea(i) < mean_contour:\n",
    "            contours_find.append(i)\n",
    "        elif cv2.contourArea(i) >= mean_contour:\n",
    "            n = cv2.contourArea(i)/mean_contour\n",
    "            for i in range(0, int(round(n))):\n",
    "                contours_find.append(i)\n",
    "    number_of_objects_in_image= len(contours_find)\n",
    "    if number_of_objects_in_image == int(arquivo[0:2]):\n",
    "        certos += 1\n",
    "        diferenças.append(0)\n",
    "    else:\n",
    "        diferenca_nome.append(arquivo)\n",
    "        diferenças.append(int(arquivo[0:2]) - number_of_objects_in_image)\n",
    "print('O número de fotos é: ',str(len(nomes_fotos)))\n",
    "print('O número de acertos é: '+str(certos))\n",
    "print('As diferenças encontradas foram: ' ,diferenças)\n",
    "print(\"Fotos com diferença\", diferenca_nome)"
   ]
  }
 ],
 "metadata": {
  "kernelspec": {
   "display_name": "Python 3",
   "language": "python",
   "name": "python3"
  },
  "language_info": {
   "codemirror_mode": {
    "name": "ipython",
    "version": 3
   },
   "file_extension": ".py",
   "mimetype": "text/x-python",
   "name": "python",
   "nbconvert_exporter": "python",
   "pygments_lexer": "ipython3",
   "version": "3.7.6"
  }
 },
 "nbformat": 4,
 "nbformat_minor": 4
}
