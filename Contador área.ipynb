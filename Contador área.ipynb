{
 "cells": [
  {
   "cell_type": "code",
   "execution_count": 1,
   "metadata": {},
   "outputs": [],
   "source": [
    "import cv2\n",
    "import numpy as np\n",
    "import os\n",
    "\n",
    "def redimensionar(imagem,porcentagem):\n",
    "    width = int(imagem.shape[1] * porcentagem / 100)\n",
    "    height = int(imagem.shape[0] * porcentagem / 100)\n",
    "    dim = (width, height)\n",
    "    resized = cv2.resize(imagem, dim, interpolation = cv2.INTER_AREA)\n",
    "    return resized"
   ]
  },
  {
   "cell_type": "code",
   "execution_count": 2,
   "metadata": {},
   "outputs": [
    {
     "name": "stdout",
     "output_type": "stream",
     "text": [
      "The number of objects in this image:  45\n",
      "Exit clicked\n"
     ]
    }
   ],
   "source": [
    "exemplo = cv2.imread('01_1.jpg')\n",
    "exemplo = redimensionar(exemplo,20)\n",
    "exemplo = exemplo[75:395, 70:520]\n",
    "gray_ex= cv2.cvtColor(exemplo,cv2.COLOR_BGR2GRAY)\n",
    "edges= cv2.Canny(gray_ex, 140, 250)\n",
    "contours, hierarchy= cv2.findContours(edges.copy(), cv2.RETR_EXTERNAL,  cv2.CHAIN_APPROX_NONE)\n",
    "mean_contour = cv2.contourArea(contours[0])\n",
    "image= cv2.imread('49_15.jpg')\n",
    "image= redimensionar(image,20)\n",
    "image = image[75:395, 70:520]\n",
    "gray= cv2.cvtColor(image,cv2.COLOR_BGR2GRAY)\n",
    "edges= cv2.Canny(gray, 140, 250)\n",
    "contours, hierarchy= cv2.findContours(edges.copy(), cv2.RETR_EXTERNAL,  cv2.CHAIN_APPROX_NONE)\n",
    "contours_find = []\n",
    "for i in contours:\n",
    "    if cv2.contourArea(i) < mean_contour:\n",
    "        contours_find.append(i)\n",
    "    if cv2.contourArea(i) >= mean_contour:\n",
    "        n = cv2.contourArea(i)/mean_contour\n",
    "        for i in range(0, int(round(n))):\n",
    "            contours_find.append(i)\n",
    "draw = cv2.drawContours(image, contours, -1, (255,0,0), 2)\n",
    "number_of_objects_in_image= len(contours_find)\n",
    "cv2.imshow('imagem cinza',gray)\n",
    "cv2.imshow('imagem canny1',edges)\n",
    "cv2.imshow('contornos',draw)\n",
    "print (\"The number of objects in this image: \", str(number_of_objects_in_image))\n",
    "cv2.waitKey(0) & 0xFF\n",
    "if ord('q'):\n",
    "    print('Exit clicked')\n",
    "    cv2.destroyAllWindows()"
   ]
  }
 ],
 "metadata": {
  "kernelspec": {
   "display_name": "Python 3",
   "language": "python",
   "name": "python3"
  },
  "language_info": {
   "codemirror_mode": {
    "name": "ipython",
    "version": 3
   },
   "file_extension": ".py",
   "mimetype": "text/x-python",
   "name": "python",
   "nbconvert_exporter": "python",
   "pygments_lexer": "ipython3",
   "version": "3.7.6"
  }
 },
 "nbformat": 4,
 "nbformat_minor": 4
}
