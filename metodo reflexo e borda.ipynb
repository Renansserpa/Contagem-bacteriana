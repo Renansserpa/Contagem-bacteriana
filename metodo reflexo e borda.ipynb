{
 "cells": [
  {
   "cell_type": "code",
   "execution_count": 32,
   "metadata": {},
   "outputs": [],
   "source": [
    "import cv2\n",
    "import numpy as np\n",
    "import os\n",
    "\n",
    "def redimensionar(imagem,porcentagem):\n",
    "    width = int(imagem.shape[1] * porcentagem / 100)\n",
    "    height = int(imagem.shape[0] * porcentagem / 100)\n",
    "    dim = (width, height)\n",
    "    resized = cv2.resize(imagem, dim, interpolation = cv2.INTER_AREA)\n",
    "    return resized"
   ]
  },
  {
   "cell_type": "code",
   "execution_count": 33,
   "metadata": {},
   "outputs": [
    {
     "name": "stdout",
     "output_type": "stream",
     "text": [
      "Quantidade de contonos esperada:  1288\n",
      "O número de fotos é:  40\n",
      "O número de acertos é: 3\n",
      "As diferenças encontradas foram:  [0, 0, 0, 1, -2, -1, -5, -5, -4, -1, -1, -3, -4, -8, -3, -7, -1, -5, -6, 5, 1, 1, -12, -14, -12, 6, -2, -3, -3, -13, -10, -22, -8, -11, -10, -9, -1, -11, -7, 2]\n",
      "Fotos com diferença ['10_1.JPG', '10_2.JPG', '10_3.JPG', '10_4.JPG', '20_1.JPG', '20_2.JPG', '20_3.JPG', '20_4.JPG', '20_5.JPG', '20_6.JPG', '20_7.JPG', '20_8.JPG', '30_1.JPG', '30_2.JPG', '30_3.JPG', '30_4.JPG', '30_5.JPG', '40_1.JPG', '40_2.JPG', '40_3.JPG', '40_4.JPG', '40_5.JPG', '49_1.JPG', '49_10.JPG', '49_11.JPG', '49_12.JPG', '49_13.JPG', '49_14.JPG', '49_15.JPG', '49_2.JPG', '49_3.JPG', '49_4.JPG', '49_5.JPG', '49_6.JPG', '49_7.JPG', '49_8.JPG', '49_9.JPG']\n"
     ]
    }
   ],
   "source": [
    "###Preparo para o loop\n",
    "nomes_fotos=os.listdir(os.getcwd()+ '\\\\imagens')\n",
    "certos= 0\n",
    "diferenças= []\n",
    "diferenca_nome = []\n",
    "Area_find = []\n",
    "feijoes_esperados = []\n",
    "contours_find=[]\n",
    "###Loop para cada foto\n",
    "for arquivo in nomes_fotos:\n",
    "    image= cv2.imread(os.getcwd()+ '\\\\imagens\\\\' + arquivo)\n",
    "    image= redimensionar(image,20)\n",
    "    image = image[75:395, 70:520]\n",
    "    feijoes_esperados.append(int(arquivo[0:2]))\n",
    "    image= cv2.cvtColor(image, cv2.COLOR_BGR2RGB)\n",
    "    image_contour= image.copy()\n",
    "    image_process= image.copy()\n",
    "    ###Seleção de faixas de cores na foto\n",
    "    lower = np.array([ 13, 17,  28])\n",
    "    upper = np.array([60, 70,  99])\n",
    "    image_mask= cv2.inRange(image_process, lower, upper)\n",
    "    contours, hierarchy= cv2.findContours(image_mask.copy(), cv2.RETR_EXTERNAL, cv2.CHAIN_APPROX_NONE)\n",
    "    ###Seleção de contornos baseado na área\n",
    "    contours_find=[]\n",
    "    for i in contours:\n",
    "        if cv2.contourArea(i) > 0.4:\n",
    "            contours_find.append(i)\n",
    "    number_of_objects_in_image= len(contours_find)\n",
    "    ###Determinação de acertos e diferenças\n",
    "    if number_of_objects_in_image/2 == int(arquivo[0:2]):\n",
    "        certos+= 1\n",
    "        diferenças.append(0)\n",
    "    else:\n",
    "        diferenca_nome.append(arquivo)\n",
    "        diferenças.append(int(arquivo[0:2]) - number_of_objects_in_image)\n",
    "###Saídas\n",
    "print('Quantidade de contonos esperada: ', np.sum(feijoes_esperados))\n",
    "print('O número de fotos é: ',str(len(nomes_fotos)))\n",
    "print('O número de acertos é: '+str(certos))\n",
    "print('As diferenças encontradas foram: ' ,diferenças)\n",
    "print(\"Fotos com diferença\", diferenca_nome)"
   ]
  },
  {
   "cell_type": "code",
   "execution_count": 35,
   "metadata": {},
   "outputs": [],
   "source": [
    "#Visualização dos contornos escolhidos da última foto do loop\n",
    "cv2.drawContours(image, contours_find, -1, (0, 255, 0), 1) \n",
    "cv2.imshow('Contours', image)\n",
    "cv2.waitKey(0)\n",
    "cv2.destroyAllWindows() "
   ]
  }
 ],
 "metadata": {
  "kernelspec": {
   "display_name": "Python 3",
   "language": "python",
   "name": "python3"
  },
  "language_info": {
   "codemirror_mode": {
    "name": "ipython",
    "version": 3
   },
   "file_extension": ".py",
   "mimetype": "text/x-python",
   "name": "python",
   "nbconvert_exporter": "python",
   "pygments_lexer": "ipython3",
   "version": "3.7.6"
  }
 },
 "nbformat": 4,
 "nbformat_minor": 4
}
